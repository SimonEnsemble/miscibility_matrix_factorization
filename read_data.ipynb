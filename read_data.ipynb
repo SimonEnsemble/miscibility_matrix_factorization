{
 "cells": [
  {
   "cell_type": "code",
   "execution_count": 2,
   "metadata": {
    "scrolled": true
   },
   "outputs": [],
   "source": [
    "import numpy as np\n",
    "from xlrd import open_workbook"
   ]
  },
  {
   "cell_type": "code",
   "execution_count": 32,
   "metadata": {},
   "outputs": [],
   "source": [
    "wb = open_workbook('data.xls', formatting_info=True)\n",
    "sheet = wb.sheet_by_name(\"Sheet2\")\n",
    "array=np.zeros([sheet.nrows,sheet.ncols])\n",
    "\n",
    "for row in range(sheet.nrows):\n",
    "  for column in range(sheet.ncols):\n",
    "    cell = sheet.cell(row, column)  \n",
    "    fmt = wb.xf_list[cell.xf_index]\n",
    "    array[row,column]=fmt.background.pattern_colour_index\n",
    "\n",
    "np.savetxt(\"colormask.csv\", array, delimiter=\",\")"
   ]
  },
  {
   "cell_type": "code",
   "execution_count": 34,
   "metadata": {},
   "outputs": [],
   "source": [
    "# map color indexes to boolean value\n",
    "pairs=np.zeros([sheet.nrows,sheet.ncols], dtype='int64')\n",
    "\n",
    "for row in range(sheet.nrows):\n",
    "  for column in range(sheet.ncols):\n",
    "    if (array[row,column] ==64):\n",
    "        pairs[row,column] = 1\n",
    "    if (array[row,column] == 29):\n",
    "        pairs[row,column] = 0\n",
    "    if (array[row,column] == 22):\n",
    "        pairs[row,column] = 1   \n",
    "    if (array[row,column] == 9):\n",
    "        pairs[row,column] = 1    \n",
    "    if (array[row,column] == 49):\n",
    "        pairs[row,column] = 0\n",
    "    if (array[row,column] == 47):\n",
    "        pairs[row,column] = 0\n",
    "    if (array[row,column] == 30):\n",
    "        pairs[row,column] = 0 \n",
    "    if (array[row,column] == 16):\n",
    "        pairs[row,column] = 0    \n",
    "    if (array[row,column] == 63):\n",
    "        pairs[row,column] = 1\n",
    "    if (array[row,column] == 44):\n",
    "        pairs[row,column] = 0\n",
    "    if (array[row,column] == 56):\n",
    "        pairs[row,column] = 0\n",
    "        \n",
    "np.savetxt(\"pairs.csv\", pairs, delimiter=\",\")"
   ]
  }
 ],
 "metadata": {
  "kernelspec": {
   "display_name": "Python 3",
   "language": "python",
   "name": "python3"
  },
  "language_info": {
   "codemirror_mode": {
    "name": "ipython",
    "version": 3
   },
   "file_extension": ".py",
   "mimetype": "text/x-python",
   "name": "python",
   "nbconvert_exporter": "python",
   "pygments_lexer": "ipython3",
   "version": "3.7.7"
  }
 },
 "nbformat": 4,
 "nbformat_minor": 4
}
