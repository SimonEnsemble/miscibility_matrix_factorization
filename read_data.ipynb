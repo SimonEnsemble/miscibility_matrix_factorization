{
 "cells": [
  {
   "cell_type": "code",
   "execution_count": 3,
   "metadata": {
    "scrolled": true
   },
   "outputs": [],
   "source": [
    "import numpy as np\n",
    "from xlrd import open_workbook"
   ]
  },
  {
   "cell_type": "markdown",
   "metadata": {},
   "source": [
    "read in raw miscibility table in Excel and automatically get the colors."
   ]
  },
  {
   "cell_type": "code",
   "execution_count": 15,
   "metadata": {},
   "outputs": [],
   "source": [
    "wb = open_workbook('raw_data.xls', formatting_info=True)\n",
    "sheet = wb.sheet_by_name(\"Sheet2\")\n",
    "array = np.zeros([sheet.nrows, sheet.ncols])\n",
    "\n",
    "for row in range(sheet.nrows):\n",
    "    for column in range(sheet.ncols):\n",
    "        cell = sheet.cell(row, column)  \n",
    "        fmt = wb.xf_list[cell.xf_index]\n",
    "        array[row, column] = fmt.background.pattern_colour_index\n",
    "\n",
    "np.savetxt(\"colormask.csv\", array, delimiter=\",\")"
   ]
  },
  {
   "cell_type": "code",
   "execution_count": 16,
   "metadata": {},
   "outputs": [],
   "source": [
    "color_to_label = {64: 1, 29: 0, 22: 1, 9: 1, 49: 0, 47: 0, 30: 0, 16: 0,\n",
    "                  63: 1, 44: 0, 56: 0}"
   ]
  },
  {
   "cell_type": "code",
   "execution_count": 17,
   "metadata": {},
   "outputs": [],
   "source": [
    "# map color indexes to boolean value\n",
    "pairs = np.zeros([sheet.nrows, sheet.ncols], dtype='int64')\n",
    "\n",
    "for row in range(sheet.nrows):\n",
    "    for column in range(sheet.ncols):\n",
    "        pairs[row, column] = color_to_label[array[row,column]]\n",
    "        \n",
    "np.savetxt(\"pairs.csv\", pairs, delimiter=\",\")"
   ]
  }
 ],
 "metadata": {
  "kernelspec": {
   "display_name": "Python 3 (ipykernel)",
   "language": "python",
   "name": "python3"
  },
  "language_info": {
   "codemirror_mode": {
    "name": "ipython",
    "version": 3
   },
   "file_extension": ".py",
   "mimetype": "text/x-python",
   "name": "python",
   "nbconvert_exporter": "python",
   "pygments_lexer": "ipython3",
   "version": "3.9.7"
  }
 },
 "nbformat": 4,
 "nbformat_minor": 4
}
